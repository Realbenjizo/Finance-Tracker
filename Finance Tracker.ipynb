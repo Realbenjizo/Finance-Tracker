{
 "cells": [
  {
   "cell_type": "markdown",
   "id": "ad3a3fe0",
   "metadata": {},
   "source": [
    "### Finance Tracker"
   ]
  },
  {
   "cell_type": "code",
   "execution_count": 1,
   "id": "f5befca8",
   "metadata": {},
   "outputs": [],
   "source": [
    "import pandas as pd"
   ]
  },
  {
   "cell_type": "code",
   "execution_count": 20,
   "id": "02a6e077",
   "metadata": {},
   "outputs": [
    {
     "data": {
      "text/plain": [
       "'Budget exceeded: -2'"
      ]
     },
     "execution_count": 20,
     "metadata": {},
     "output_type": "execute_result"
    }
   ],
   "source": [
    "class FinanceTracker:\n",
    "    def __init__(self, budget):\n",
    "        self.budget = budget\n",
    "        self.transactions = pd.DataFrame(columns=[\"date\", \"category\", \"description\", \"amount\"])\n",
    "        \n",
    "    def add_transactions(self, date, category, description, amount):\n",
    "        if isinstance(amount, (int, float)):\n",
    "            self.new_transactions = pd.DataFrame({\"date\": date,\n",
    "                                   \"category\": category,\n",
    "                                   \"description\": description,\n",
    "                                   \"amount\": amount}, index=[0])\n",
    "    \n",
    "            self.transactions = pd.concat([self.transactions, self.new_transactions ], \n",
    "                                          ignore_index=True)\n",
    "            return \"Transaction added succesfully\"\n",
    "        else:\n",
    "            return \"Invalid amount.Transaction not added\"\n",
    "        \n",
    "        \n",
    "    def get_transactions(self, category=None):\n",
    "        if category:\n",
    "            return self.transactions[self.transactions[\"category\"]== category]\n",
    "        return self.transactions\n",
    "    \n",
    "    def get_total_spending(self, category=None):\n",
    "        if category:\n",
    "            return self.transactions[self.transactions[\"category\"]== category][\"amount\"].sum()\n",
    "        return self.transactions[\"amount\"].sum()\n",
    "    \n",
    "    def get_budget_balance(self):\n",
    "        balance = self.budget - self.transactions[\"amount\"].sum()\n",
    "        if balance < 0:\n",
    "            return f\"Budget exceeded: {balance}\"\n",
    "        return f\"Expenses within Budget: {balance}\"\n",
    "        \n",
    "            \n",
    "obj = FinanceTracker(20)\n",
    "obj.add_transactions(\"2024-02-02\", \"stationary\", \"Buying books\", 10)\n",
    "obj.add_transactions(\"2024-02-02\", \"stationary\", \"Buying pens\", 5)\n",
    "obj.add_transactions(\"2024-02-03\", \"groceries\",\"Bought sugar\", 2)\n",
    "obj.add_transactions(\"2024-02-03\", \"groceries\",\"Bought salt\", 5)\n",
    "\n",
    "\n",
    "obj.get_transactions(category=\"stationary\")\n",
    "obj.get_budget_balance()"
   ]
  },
  {
   "cell_type": "code",
   "execution_count": null,
   "id": "b0585db6",
   "metadata": {},
   "outputs": [],
   "source": []
  },
  {
   "cell_type": "code",
   "execution_count": 1,
   "id": "2c158704",
   "metadata": {},
   "outputs": [
    {
     "ename": "UnableToAccessApi",
     "evalue": "Unable to access Pywhatkit api right now",
     "output_type": "error",
     "traceback": [
      "\u001b[1;31m---------------------------------------------------------------------------\u001b[0m",
      "\u001b[1;31mUnableToAccessApi\u001b[0m                         Traceback (most recent call last)",
      "Input \u001b[1;32mIn [1]\u001b[0m, in \u001b[0;36m<cell line: 8>\u001b[1;34m()\u001b[0m\n\u001b[0;32m      6\u001b[0m text \u001b[38;5;241m=\u001b[39m \u001b[38;5;124m'\u001b[39m\u001b[38;5;124mPython is great\u001b[39m\u001b[38;5;124m'\u001b[39m\n\u001b[0;32m      7\u001b[0m \u001b[38;5;66;03m# converting text to handwriting and saving as image\u001b[39;00m\n\u001b[1;32m----> 8\u001b[0m \u001b[43mpywhatkit\u001b[49m\u001b[38;5;241;43m.\u001b[39;49m\u001b[43mtext_to_handwriting\u001b[49m\u001b[43m(\u001b[49m\u001b[43mtext\u001b[49m\u001b[43m,\u001b[49m\u001b[43m \u001b[49m\u001b[43msave_to\u001b[49m\u001b[38;5;241;43m=\u001b[39;49m\u001b[38;5;124;43m'\u001b[39;49m\u001b[38;5;124;43mnew_text.png\u001b[39;49m\u001b[38;5;124;43m'\u001b[39;49m\u001b[43m)\u001b[49m\n\u001b[0;32m     10\u001b[0m \u001b[38;5;66;03m# reaading image using cv\u001b[39;00m\n\u001b[0;32m     11\u001b[0m hand_text \u001b[38;5;241m=\u001b[39m cv\u001b[38;5;241m.\u001b[39mimread(\u001b[38;5;124m\"\u001b[39m\u001b[38;5;124mnew_text.png\u001b[39m\u001b[38;5;124m\"\u001b[39m)\n",
      "File \u001b[1;32m~\\AppData\\Local\\Programs\\Python\\Python310\\lib\\site-packages\\pywhatkit\\handwriting.py:22\u001b[0m, in \u001b[0;36mtext_to_handwriting\u001b[1;34m(string, save_to, rgb)\u001b[0m\n\u001b[0;32m     20\u001b[0m         file\u001b[38;5;241m.\u001b[39mclose()\n\u001b[0;32m     21\u001b[0m \u001b[38;5;28;01melif\u001b[39;00m \u001b[38;5;241m400\u001b[39m \u001b[38;5;241m<\u001b[39m\u001b[38;5;241m=\u001b[39m status_code \u001b[38;5;241m<\u001b[39m\u001b[38;5;241m=\u001b[39m \u001b[38;5;241m599\u001b[39m:\n\u001b[1;32m---> 22\u001b[0m     \u001b[38;5;28;01mraise\u001b[39;00m exceptions\u001b[38;5;241m.\u001b[39mUnableToAccessApi(\u001b[38;5;124m\"\u001b[39m\u001b[38;5;124mUnable to access Pywhatkit api right now\u001b[39m\u001b[38;5;124m\"\u001b[39m)\n",
      "\u001b[1;31mUnableToAccessApi\u001b[0m: Unable to access Pywhatkit api right now"
     ]
    }
   ],
   "source": [
    "import pywhatkit\n",
    "import cv2 as cv\n",
    "\n",
    "\n",
    "# text to convert to handwriting\n",
    "text = 'Python is great'\n",
    "# converting text to handwriting and saving as image\n",
    "pywhatkit.text_to_handwriting(text, save_to='new_text.png')\n",
    "\n",
    "# reaading image using cv\n",
    "hand_text = cv.imread(\"new_text.png\")\n",
    "cv.imshow(\"hand_text\", hand_text)\n",
    "cv.waitKey(0)\n",
    "cv.destroyAllWindows()"
   ]
  },
  {
   "cell_type": "code",
   "execution_count": 4,
   "id": "cefb505b",
   "metadata": {},
   "outputs": [
    {
     "data": {
      "text/html": [
       "<div>\n",
       "<style scoped>\n",
       "    .dataframe tbody tr th:only-of-type {\n",
       "        vertical-align: middle;\n",
       "    }\n",
       "\n",
       "    .dataframe tbody tr th {\n",
       "        vertical-align: top;\n",
       "    }\n",
       "\n",
       "    .dataframe thead th {\n",
       "        text-align: right;\n",
       "    }\n",
       "</style>\n",
       "<table border=\"1\" class=\"dataframe\">\n",
       "  <thead>\n",
       "    <tr style=\"text-align: right;\">\n",
       "      <th></th>\n",
       "      <th>name</th>\n",
       "      <th>age</th>\n",
       "      <th>own_car</th>\n",
       "    </tr>\n",
       "  </thead>\n",
       "  <tbody>\n",
       "    <tr>\n",
       "      <th>0</th>\n",
       "      <td>John</td>\n",
       "      <td>40</td>\n",
       "      <td>False</td>\n",
       "    </tr>\n",
       "  </tbody>\n",
       "</table>\n",
       "</div>"
      ],
      "text/plain": [
       "   name  age  own_car\n",
       "0  John   40    False"
      ]
     },
     "execution_count": 4,
     "metadata": {},
     "output_type": "execute_result"
    }
   ],
   "source": [
    "import pandas as pd\n",
    "\n",
    "my_dictionary = {\"name\": \"John\",\"age\": 40, \"own_car\": False}\n",
    "\n",
    "df = pd.DataFrame(my_dictionary, index=[0])\n",
    "df"
   ]
  },
  {
   "cell_type": "code",
   "execution_count": null,
   "id": "948d628e",
   "metadata": {},
   "outputs": [],
   "source": []
  }
 ],
 "metadata": {
  "kernelspec": {
   "display_name": "Python 3 (ipykernel)",
   "language": "python",
   "name": "python3"
  },
  "language_info": {
   "codemirror_mode": {
    "name": "ipython",
    "version": 3
   },
   "file_extension": ".py",
   "mimetype": "text/x-python",
   "name": "python",
   "nbconvert_exporter": "python",
   "pygments_lexer": "ipython3",
   "version": "3.10.5"
  }
 },
 "nbformat": 4,
 "nbformat_minor": 5
}
